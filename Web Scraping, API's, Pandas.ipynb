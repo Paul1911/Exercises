{
 "cells": [
  {
   "cell_type": "markdown",
   "metadata": {
    "id": "Y2-NmyAxUlpD"
   },
   "source": [
    "## Web Scraping, API's, Pandas\n",
    "\n",
    "This Workbook contains exercises by NOVA School of Business and Economics a friend asked me to explain to him. I wrote the code and tutored him for it."
   ]
  },
  {
   "cell_type": "markdown",
   "metadata": {
    "id": "G182fsRDU4oj"
   },
   "source": [
    "### Question 1 (30 points) Movies Database\n",
    "\n",
    "![](https://storage.googleapis.com/kaggle-datasets-images/1474/2639/cb50fd3b236d01184fd23ad59af50b4f/dataset-original.jpg)\n",
    "\n"
   ]
  },
  {
   "cell_type": "markdown",
   "metadata": {
    "id": "wlCvNZnSX2PZ"
   },
   "source": [
    "IMDb (also known as the Internet Movie Database) is an online database of information related to films, television programs, home videos, video games, and streaming content online – including cast, production crew and personal biographies, plot summaries, trivia, ratings, and fan and critical reviews.\n",
    "\n",
    "As of January 2020, IMDb has approximately 6.5 million titles (including episodes) and 10.4 million personalities in its database, as well as 83 million registered users.\n",
    "\n",
    "\n",
    "Consider the top 250 rated movies on IMDb: https://www.imdb.com/chart/top/ \n",
    " \n"
   ]
  },
  {
   "cell_type": "markdown",
   "metadata": {
    "id": "uiL9-NPfX8on"
   },
   "source": [
    "**Question 1.1** (10 points) Webscrape the mentioned page and retrieve the mean rated value for the top 100 movies."
   ]
  },
  {
   "cell_type": "code",
   "execution_count": 34,
   "metadata": {
    "scrolled": true
   },
   "outputs": [
    {
     "name": "stdout",
     "output_type": "stream",
     "text": [
      "Length test: 250\n",
      "The mean rating for the TOP100 movies is: 8.477\n"
     ]
    }
   ],
   "source": [
    "#Question 1.1\n",
    "import requests\n",
    "from bs4 import BeautifulSoup\n",
    "import statistics\n",
    " \n",
    "url = \"https://www.imdb.com/chart/top/\"\n",
    " \n",
    "list_of_titles = []\n",
    "list_of_years = []\n",
    "user_ratings = []\n",
    "\n",
    "r = requests.get(url)\n",
    "\n",
    "rawdata = requests.get(url).text\n",
    "movies = BeautifulSoup(rawdata, 'lxml')\n",
    " \n",
    "tbody = movies.tbody\n",
    "table_rows = tbody.find_all('tr')\n",
    " \n",
    "for td in table_rows:\n",
    "    imdb_ratings = td.find_all('td', class_=\"ratingColumn imdbRating\")\n",
    "    \n",
    "    for rating in imdb_ratings:\n",
    "        user_rating = rating.text.strip()\n",
    "        user_ratings.append(float(user_rating))\n",
    "        \n",
    "length = len(user_ratings)\n",
    "print(\"Length test: {}\".format(length))\n",
    "print(\"The mean rating for the TOP100 movies is: {}\".format(round((statistics.mean(user_ratings[:100])),50)))\n",
    "\n"
   ]
  },
  {
   "cell_type": "markdown",
   "metadata": {
    "id": "9xpgF38cZ-r0"
   },
   "source": [
    "**Question 1.2** (20 points) Webscrape the mentioned page and create a `CSV` named `top100movies.csv` with `Rank`, `Orignal Title`, `Rate`, `Year`, `Duration` (in minutes), `Budget` in millions and return of investment, `ROI`, calculated from the \"Cumulative Worldwide Gross\", for the top 100 movies. \n",
    "\n",
    "See the example below:\n",
    "\n",
    " | Rank | Original Title                 | Rate  | Year  | Duration  | Budget | ROI |\n",
    "| ------------- |:-------------:| :-------------:| :-------------:|  :-------------:|   :-------------:|   ------------:|\n",
    "| 1 | The Shawshank Redemption      | 9.3 | 1994 | 142  | 25.0M | 15.26%  |"
   ]
  },
  {
   "cell_type": "code",
   "execution_count": 35,
   "metadata": {},
   "outputs": [],
   "source": [
    "# question 1.2\n",
    "import requests\n",
    "from bs4 import BeautifulSoup\n",
    "import statistics\n",
    " \n",
    "url = \"https://www.imdb.com/chart/top/\"\n",
    " \n"
   ]
  },
  {
   "cell_type": "code",
   "execution_count": 36,
   "metadata": {},
   "outputs": [],
   "source": [
    "user_ratings = []\n",
    "rank = []\n",
    "original_title = []\n",
    "year = []\n",
    "hyperlinks = []\n",
    " \n",
    "rawdata = requests.get(url).text\n",
    "movies = BeautifulSoup(rawdata, 'lxml')\n",
    " \n",
    "tbody = movies.tbody\n",
    "table_rows = tbody.find_all('tr')\n",
    " \n",
    "for td in table_rows:\n",
    "    imdb_ratings = td.find_all('td', class_=\"ratingColumn imdbRating\")\n",
    "    \n",
    "    for rating in imdb_ratings:\n",
    "        user_rating = rating.text.strip()\n",
    "        user_ratings.append(user_rating)\n",
    "        \n",
    "    for r in td.find_all('td',class_= \"titleColumn\"):\n",
    "        titlestuff = r.text.strip().split('\\n')\n",
    "        #Rank\n",
    "        rank.append(titlestuff[0][:-1])\n",
    "        #Original Title\n",
    "        original_title.append(titlestuff[1].strip())\n",
    "        #Year\n",
    "        year.append(titlestuff[2][1:-1])\n",
    "        \n",
    "    for i in td.find_all('a'):\n",
    "        hyperlink = (i.get('href'))\n",
    "        hyperlinks.append('https://www.imdb.com' + hyperlink)\n",
    "hyperlinks = hyperlinks[::2][:100]\n"
   ]
  },
  {
   "cell_type": "code",
   "execution_count": 37,
   "metadata": {},
   "outputs": [],
   "source": [
    "#These lines need some minutes\n",
    "single_page_soup = []\n",
    "\n",
    "for i in hyperlinks[:100]:\n",
    "    single_page_soup.append(BeautifulSoup(requests.get(i).text,'lxml'))\n",
    "    "
   ]
  },
  {
   "cell_type": "code",
   "execution_count": 38,
   "metadata": {},
   "outputs": [],
   "source": [
    "minutes = []\n",
    "budget = []\n",
    "return_on_invest = []\n",
    "for page in single_page_soup:\n",
    "    #Minutes\n",
    "    minutes.append(page.find(text='Runtime:').findNext('time').text.strip().split()[0])\n",
    "    #Budget\n",
    "    try:\n",
    "        bud = page.find(text='Box Office').findNext('div').text.strip().split('$')[1].split('\\n')[0]\n",
    "        bud = float(bud.replace(',',''))\n",
    "        budget.append(str(round(bud/1000000,2)) + \"M\")\n",
    "    except Exception:\n",
    "        bud = \"N/A\"\n",
    "        budget.append(bud)\n",
    "    #ROI\n",
    "    try:\n",
    "        revenue = page.find(text='Cumulative Worldwide Gross:').parent.parent.text.strip().split('$')[1]\n",
    "        revenue = float(revenue.replace(',',''))\n",
    "        roi = str(round((revenue/bud-1)*100,2)) + '%'\n",
    "        return_on_invest.append(roi)\n",
    "    except Exception:\n",
    "        roi = 'N/A'\n",
    "        return_on_invest.append(roi)"
   ]
  },
  {
   "cell_type": "code",
   "execution_count": 39,
   "metadata": {},
   "outputs": [],
   "source": [
    "import csv\n",
    "\n",
    "with open('top100movies.csv', 'w', newline='') as f:\n",
    "    thewriter = csv.writer(f)\n",
    "    \n",
    "    thewriter.writerow(['Rank','Original Title','Rate','Year','Duration', 'Budget','ROI'])\n",
    "    \n",
    "    for i in range(0,100):\n",
    "        thewriter.writerow([rank[i],original_title[i], user_ratings[i], year [i],minutes [i], budget [i], return_on_invest[i]])"
   ]
  },
  {
   "cell_type": "markdown",
   "metadata": {
    "id": "RbSrvH8NcCkW"
   },
   "source": [
    "<br><br>\n",
    "\n",
    "### Question 2 (15 points) ISS Location\n",
    "\n",
    "![](https://www.esa.int/var/esa/storage/images/esa_multimedia/images/2011/02/international_space_station/17901086-3-eng-GB/International_Space_Station_pillars.jpg)\n",
    "\n",
    "\n",
    "The International Space Station (ISS) is a modular space station (habitable artificial satellite) in low Earth orbit. \n",
    "\n",
    "The ISS location can be retrieved with the following API: http://open-notify.org/Open-Notify-API/ISS-Location-Now/\n",
    "\n",
    "<br>\n"
   ]
  },
  {
   "cell_type": "markdown",
   "metadata": {
    "id": "Oe3aLvahqmg2"
   },
   "source": [
    "**Question 2.1** (5 points) Use the API mentioned to get the location of the ISS. Print the latitude, the longitude and time in the format YYYY-MM-DD HH:MM:SS\n",
    "\n",
    "Hint: You can use the python `datetime` module (https://docs.python.org/3/library/datetime.html) to read the timestamp to a datetime object with the following code:\n",
    "\n",
    "```python\n",
    "from datetime import datetime\n",
    "\n",
    "timestamp = 1575750073\n",
    "dt_object = datetime.fromtimestamp(timestamp)\n",
    "```"
   ]
  },
  {
   "cell_type": "code",
   "execution_count": 40,
   "metadata": {},
   "outputs": [],
   "source": [
    "import requests\n",
    "import json"
   ]
  },
  {
   "cell_type": "code",
   "execution_count": 41,
   "metadata": {
    "id": "4yRA-q3SUkOi"
   },
   "outputs": [
    {
     "name": "stdout",
     "output_type": "stream",
     "text": [
      "2021-03-27 17:24:56\n",
      "37.2333\n",
      "97.1999\n"
     ]
    }
   ],
   "source": [
    "# question 2.1\n",
    "from datetime import datetime\n",
    "\n",
    "\n",
    "\n",
    "iss = requests.get('http://api.open-notify.org/iss-now.json')\n",
    "\n",
    "iss = iss.json()\n",
    "ts = iss['timestamp']\n",
    "long = iss['iss_position']['longitude']\n",
    "lat = iss['iss_position']['latitude']\n",
    "\n",
    "timestamp = ts\n",
    "dt_object = datetime.fromtimestamp(timestamp)\n",
    "dt_object\n",
    "\n",
    "print(dt_object)\n",
    "print(lat)\n",
    "print(long)"
   ]
  },
  {
   "cell_type": "markdown",
   "metadata": {
    "id": "XJwU3Lb8slub"
   },
   "source": [
    "**Question 2.2** (10 points) Make at least two requests to this API with a time interval of 10 seconds. Print at which speed in Km/s the ISS travelled.\n",
    "\n",
    "<br>\n",
    "\n",
    "Hint 1: To calculate the distance from two geocoordinates we recommend the `haversine` library that must be installed with `pip install haversine`. Documentation:  https://pypi.org/project/haversine/\n",
    "\n",
    "<br>\n",
    "\n",
    "Hint 2: To sleep your program you can use the `time` python module:\n",
    "\n",
    "```python\n",
    "import time\n",
    "\n",
    "print(\"Hello\")\n",
    "time.sleep(4.1)\n",
    "print(\"Hello after 4.1 seconds\")\n",
    "```"
   ]
  },
  {
   "cell_type": "code",
   "execution_count": 42,
   "metadata": {},
   "outputs": [
    {
     "name": "stdout",
     "output_type": "stream",
     "text": [
      "Requirement already satisfied: haversine in c:\\programdata\\anaconda3\\lib\\site-packages (2.3.0)\n",
      "Note: you may need to restart the kernel to use updated packages.\n"
     ]
    }
   ],
   "source": [
    "pip install haversine"
   ]
  },
  {
   "cell_type": "code",
   "execution_count": 43,
   "metadata": {},
   "outputs": [],
   "source": [
    "import time \n",
    "from haversine import haversine\n",
    "timest = []\n",
    "lati = []\n",
    "longi = []"
   ]
  },
  {
   "cell_type": "code",
   "execution_count": 44,
   "metadata": {
    "id": "QVoHxRAdsqow"
   },
   "outputs": [
    {
     "name": "stdout",
     "output_type": "stream",
     "text": [
      "0:00:11\n"
     ]
    }
   ],
   "source": [
    "timest = []\n",
    "lati = []\n",
    "longi = []\n",
    "for i in range(0,2):\n",
    "    iss = requests.get('http://api.open-notify.org/iss-now.json')\n",
    "\n",
    "    iss = iss.json()\n",
    "    ts = iss['timestamp']\n",
    "    long = iss['iss_position']['longitude']\n",
    "    lat = iss['iss_position']['latitude']\n",
    "\n",
    "    timestamp = ts\n",
    "    dt_object = datetime.fromtimestamp(timestamp)\n",
    "    \n",
    "    timest.append(dt_object)\n",
    "    lati.append(float(lat))\n",
    "    longi.append(float(long))\n",
    "    \n",
    "    time.sleep(10)\n",
    "print(timest[1]-timest[0])"
   ]
  },
  {
   "cell_type": "code",
   "execution_count": 45,
   "metadata": {},
   "outputs": [],
   "source": [
    "one = (lati[0],longi[0])\n",
    "two = (lati[1],longi[1])\n",
    "km_per_10sec = haversine(one,two)\n",
    "km_h = km_per_10sec*6*60"
   ]
  },
  {
   "cell_type": "code",
   "execution_count": 46,
   "metadata": {},
   "outputs": [
    {
     "data": {
      "text/plain": [
       "26169.611858166758"
      ]
     },
     "execution_count": 46,
     "metadata": {},
     "output_type": "execute_result"
    }
   ],
   "source": [
    "km_h"
   ]
  },
  {
   "cell_type": "code",
   "execution_count": 47,
   "metadata": {},
   "outputs": [
    {
     "name": "stdout",
     "output_type": "stream",
     "text": [
      "The ISS moves at a speed of 26169.611858166758km/h.\n"
     ]
    }
   ],
   "source": [
    "print('The ISS moves at a speed of ' + str(km_h) + 'km/h.')"
   ]
  },
  {
   "cell_type": "markdown",
   "metadata": {
    "id": "sGbNFwTesp3m"
   },
   "source": [
    "<br><br>\n",
    "\n",
    "### Question 3 (40 points) Aircraft Wildlife Strikes\n",
    "\n",
    "![](https://i.dailymail.co.uk/1s/2020/07/07/16/30492678-0-image-a-15_1594136775641.jpg)\n",
    "\n",
    "The \"wildlifestrikes.csv\" dataset contains a record of each reported wildlife strike of a military, commercial, or civil aircraft between 1990 and 2015. Each row contains the incident date, aircraft operator, aircraft make and model, engine make and model, airport name and location, species name and quantity, and aircraft damage.\n",
    "\n",
    "The wildlife strike database was compiled from reports received from airports, airlines, and pilots and published by the Federal Aviation Association.\n",
    "<br>"
   ]
  },
  {
   "cell_type": "markdown",
   "metadata": {
    "id": "CC3vUnLRw1Mc"
   },
   "source": [
    "**Question 3.1** (2.5 points) Show the number of records, the number of columns and all column names in the dataset."
   ]
  },
  {
   "cell_type": "code",
   "execution_count": 60,
   "metadata": {
    "id": "SfJHJef5sD4_"
   },
   "outputs": [
    {
     "data": {
      "text/html": [
       "<div>\n",
       "<style scoped>\n",
       "    .dataframe tbody tr th:only-of-type {\n",
       "        vertical-align: middle;\n",
       "    }\n",
       "\n",
       "    .dataframe tbody tr th {\n",
       "        vertical-align: top;\n",
       "    }\n",
       "\n",
       "    .dataframe thead th {\n",
       "        text-align: right;\n",
       "    }\n",
       "</style>\n",
       "<table border=\"1\" class=\"dataframe\">\n",
       "  <thead>\n",
       "    <tr style=\"text-align: right;\">\n",
       "      <th></th>\n",
       "      <th>INDEX_NR</th>\n",
       "      <th>OPID</th>\n",
       "      <th>OPERATOR</th>\n",
       "      <th>ATYPE</th>\n",
       "      <th>AMA</th>\n",
       "      <th>AMO</th>\n",
       "      <th>EMA</th>\n",
       "      <th>EMO</th>\n",
       "      <th>AC_CLASS</th>\n",
       "      <th>AC_MASS</th>\n",
       "      <th>...</th>\n",
       "      <th>REPORTED_NAME</th>\n",
       "      <th>REPORTED_TITLE</th>\n",
       "      <th>REPORTED_DATE</th>\n",
       "      <th>SOURCE</th>\n",
       "      <th>PERSON</th>\n",
       "      <th>NR_INJURIES</th>\n",
       "      <th>NR_FATALITIES</th>\n",
       "      <th>LUPDATE</th>\n",
       "      <th>TRANSFER</th>\n",
       "      <th>INDICATED_DAMAGE</th>\n",
       "    </tr>\n",
       "  </thead>\n",
       "  <tbody>\n",
       "    <tr>\n",
       "      <th>0</th>\n",
       "      <td>100000</td>\n",
       "      <td>AAL</td>\n",
       "      <td>AMERICAN AIRLINES</td>\n",
       "      <td>B-727</td>\n",
       "      <td>148</td>\n",
       "      <td>10</td>\n",
       "      <td>34.0</td>\n",
       "      <td>10</td>\n",
       "      <td>A</td>\n",
       "      <td>4.0</td>\n",
       "      <td>...</td>\n",
       "      <td>Deleted</td>\n",
       "      <td>Deleted</td>\n",
       "      <td>1992-05-14 00:00:00</td>\n",
       "      <td>FAA Form 5200-7</td>\n",
       "      <td>Pilot</td>\n",
       "      <td>NaN</td>\n",
       "      <td>NaN</td>\n",
       "      <td>1996-03-14 00:00:00</td>\n",
       "      <td>0</td>\n",
       "      <td>0</td>\n",
       "    </tr>\n",
       "    <tr>\n",
       "      <th>1</th>\n",
       "      <td>100001</td>\n",
       "      <td>UAL</td>\n",
       "      <td>UNITED AIRLINES</td>\n",
       "      <td>B-737-300</td>\n",
       "      <td>148</td>\n",
       "      <td>24</td>\n",
       "      <td>10.0</td>\n",
       "      <td>01</td>\n",
       "      <td>A</td>\n",
       "      <td>4.0</td>\n",
       "      <td>...</td>\n",
       "      <td>Deleted</td>\n",
       "      <td>Deleted</td>\n",
       "      <td>NaN</td>\n",
       "      <td>Air Transport Report</td>\n",
       "      <td>Air Transport Operations</td>\n",
       "      <td>NaN</td>\n",
       "      <td>NaN</td>\n",
       "      <td>2007-12-20 00:00:00</td>\n",
       "      <td>0</td>\n",
       "      <td>0</td>\n",
       "    </tr>\n",
       "    <tr>\n",
       "      <th>2</th>\n",
       "      <td>100002</td>\n",
       "      <td>UAL</td>\n",
       "      <td>UNITED AIRLINES</td>\n",
       "      <td>B-737-300</td>\n",
       "      <td>148</td>\n",
       "      <td>24</td>\n",
       "      <td>10.0</td>\n",
       "      <td>01</td>\n",
       "      <td>A</td>\n",
       "      <td>4.0</td>\n",
       "      <td>...</td>\n",
       "      <td>Deleted</td>\n",
       "      <td>Deleted</td>\n",
       "      <td>NaN</td>\n",
       "      <td>Air Transport Report</td>\n",
       "      <td>Air Transport Operations</td>\n",
       "      <td>NaN</td>\n",
       "      <td>NaN</td>\n",
       "      <td>2007-12-20 00:00:00</td>\n",
       "      <td>0</td>\n",
       "      <td>0</td>\n",
       "    </tr>\n",
       "    <tr>\n",
       "      <th>3</th>\n",
       "      <td>100003</td>\n",
       "      <td>UAL</td>\n",
       "      <td>UNITED AIRLINES</td>\n",
       "      <td>B-757-200</td>\n",
       "      <td>148</td>\n",
       "      <td>26</td>\n",
       "      <td>34.0</td>\n",
       "      <td>40</td>\n",
       "      <td>A</td>\n",
       "      <td>4.0</td>\n",
       "      <td>...</td>\n",
       "      <td>Deleted</td>\n",
       "      <td>Deleted</td>\n",
       "      <td>NaN</td>\n",
       "      <td>Air Transport Report</td>\n",
       "      <td>Air Transport Operations</td>\n",
       "      <td>NaN</td>\n",
       "      <td>NaN</td>\n",
       "      <td>2007-12-20 00:00:00</td>\n",
       "      <td>0</td>\n",
       "      <td>0</td>\n",
       "    </tr>\n",
       "    <tr>\n",
       "      <th>4</th>\n",
       "      <td>100004</td>\n",
       "      <td>UAL</td>\n",
       "      <td>UNITED AIRLINES</td>\n",
       "      <td>A-320</td>\n",
       "      <td>04A</td>\n",
       "      <td>03</td>\n",
       "      <td>23.0</td>\n",
       "      <td>01</td>\n",
       "      <td>A</td>\n",
       "      <td>4.0</td>\n",
       "      <td>...</td>\n",
       "      <td>Deleted</td>\n",
       "      <td>Deleted</td>\n",
       "      <td>NaN</td>\n",
       "      <td>Air Transport Report</td>\n",
       "      <td>Air Transport Operations</td>\n",
       "      <td>NaN</td>\n",
       "      <td>NaN</td>\n",
       "      <td>2007-12-20 00:00:00</td>\n",
       "      <td>0</td>\n",
       "      <td>0</td>\n",
       "    </tr>\n",
       "  </tbody>\n",
       "</table>\n",
       "<p>5 rows × 94 columns</p>\n",
       "</div>"
      ],
      "text/plain": [
       "   INDEX_NR OPID           OPERATOR      ATYPE  AMA AMO   EMA EMO AC_CLASS  \\\n",
       "0    100000  AAL  AMERICAN AIRLINES      B-727  148  10  34.0  10        A   \n",
       "1    100001  UAL    UNITED AIRLINES  B-737-300  148  24  10.0  01        A   \n",
       "2    100002  UAL    UNITED AIRLINES  B-737-300  148  24  10.0  01        A   \n",
       "3    100003  UAL    UNITED AIRLINES  B-757-200  148  26  34.0  40        A   \n",
       "4    100004  UAL    UNITED AIRLINES      A-320  04A  03  23.0  01        A   \n",
       "\n",
       "   AC_MASS  ...  REPORTED_NAME REPORTED_TITLE        REPORTED_DATE  \\\n",
       "0      4.0  ...        Deleted        Deleted  1992-05-14 00:00:00   \n",
       "1      4.0  ...        Deleted        Deleted                  NaN   \n",
       "2      4.0  ...        Deleted        Deleted                  NaN   \n",
       "3      4.0  ...        Deleted        Deleted                  NaN   \n",
       "4      4.0  ...        Deleted        Deleted                  NaN   \n",
       "\n",
       "                 SOURCE                    PERSON  NR_INJURIES NR_FATALITIES  \\\n",
       "0       FAA Form 5200-7                     Pilot          NaN           NaN   \n",
       "1  Air Transport Report  Air Transport Operations          NaN           NaN   \n",
       "2  Air Transport Report  Air Transport Operations          NaN           NaN   \n",
       "3  Air Transport Report  Air Transport Operations          NaN           NaN   \n",
       "4  Air Transport Report  Air Transport Operations          NaN           NaN   \n",
       "\n",
       "               LUPDATE  TRANSFER  INDICATED_DAMAGE  \n",
       "0  1996-03-14 00:00:00         0                 0  \n",
       "1  2007-12-20 00:00:00         0                 0  \n",
       "2  2007-12-20 00:00:00         0                 0  \n",
       "3  2007-12-20 00:00:00         0                 0  \n",
       "4  2007-12-20 00:00:00         0                 0  \n",
       "\n",
       "[5 rows x 94 columns]"
      ]
     },
     "execution_count": 60,
     "metadata": {},
     "output_type": "execute_result"
    }
   ],
   "source": [
    "# question 3.1\n",
    "import pandas as pd\n",
    "\n",
    "df = pd.read_csv('faa-wildlife-strikes.csv')\n",
    "#df.info()\n",
    "df.head()"
   ]
  },
  {
   "cell_type": "markdown",
   "metadata": {
    "id": "-nqKjitlw7HC"
   },
   "source": [
    "**Question 3.2** (2.5 points) How many different species the dataset has? Consider the `Species ID` column for this exercise. You can consider the different unknown species as unique values."
   ]
  },
  {
   "cell_type": "code",
   "execution_count": 49,
   "metadata": {
    "id": "KFf0soPRZ9CQ"
   },
   "outputs": [
    {
     "data": {
      "text/plain": [
       "719"
      ]
     },
     "execution_count": 49,
     "metadata": {},
     "output_type": "execute_result"
    }
   ],
   "source": [
    "# question 3.2\n",
    "len(set(df['SPECIES_ID']))"
   ]
  },
  {
   "cell_type": "markdown",
   "metadata": {
    "id": "TwpkkPbSw9h1"
   },
   "source": [
    "**Question 3.3** (5 points) Show the number of records in percentage by month."
   ]
  },
  {
   "cell_type": "code",
   "execution_count": 50,
   "metadata": {
    "id": "S88fav5Tw-Ls"
   },
   "outputs": [
    {
     "data": {
      "text/plain": [
       "INCIDENT_MONTH\n",
       "1      3.491017\n",
       "2      3.209002\n",
       "3      5.022860\n",
       "4      7.287024\n",
       "5      9.688462\n",
       "6      8.316294\n",
       "7     12.675183\n",
       "8     14.068603\n",
       "9     13.574071\n",
       "10    12.035335\n",
       "11     6.662684\n",
       "12     3.969467\n",
       "Name: INDEX_NR, dtype: float64"
      ]
     },
     "execution_count": 50,
     "metadata": {},
     "output_type": "execute_result"
    }
   ],
   "source": [
    "# question 3.3\n",
    "df1 = df.groupby(['INCIDENT_MONTH']).count()['INDEX_NR'].apply(lambda x: x/df['INDEX_NR'].count()*100)\n",
    "df1"
   ]
  },
  {
   "cell_type": "markdown",
   "metadata": {
    "id": "ugS4DKHq7IJ9"
   },
   "source": [
    "**Question 3.4** (10 points) Show the number of records, injuries and fatalities by year. Consider \"na\" values as 0."
   ]
  },
  {
   "cell_type": "code",
   "execution_count": 51,
   "metadata": {
    "id": "jII69R7x7Dxq"
   },
   "outputs": [
    {
     "data": {
      "text/html": [
       "<div>\n",
       "<style scoped>\n",
       "    .dataframe tbody tr th:only-of-type {\n",
       "        vertical-align: middle;\n",
       "    }\n",
       "\n",
       "    .dataframe tbody tr th {\n",
       "        vertical-align: top;\n",
       "    }\n",
       "\n",
       "    .dataframe thead th {\n",
       "        text-align: right;\n",
       "    }\n",
       "</style>\n",
       "<table border=\"1\" class=\"dataframe\">\n",
       "  <thead>\n",
       "    <tr style=\"text-align: right;\">\n",
       "      <th></th>\n",
       "      <th>Year</th>\n",
       "      <th>Number of Records</th>\n",
       "      <th>Injuries</th>\n",
       "      <th>Fatalities</th>\n",
       "    </tr>\n",
       "  </thead>\n",
       "  <tbody>\n",
       "    <tr>\n",
       "      <th>0</th>\n",
       "      <td>1992</td>\n",
       "      <td>2099</td>\n",
       "      <td>8.0</td>\n",
       "      <td>0.0</td>\n",
       "    </tr>\n",
       "    <tr>\n",
       "      <th>1</th>\n",
       "      <td>1996</td>\n",
       "      <td>2672</td>\n",
       "      <td>11.0</td>\n",
       "      <td>0.0</td>\n",
       "    </tr>\n",
       "    <tr>\n",
       "      <th>2</th>\n",
       "      <td>1991</td>\n",
       "      <td>2816</td>\n",
       "      <td>8.0</td>\n",
       "      <td>1.0</td>\n",
       "    </tr>\n",
       "    <tr>\n",
       "      <th>3</th>\n",
       "      <td>1993</td>\n",
       "      <td>2849</td>\n",
       "      <td>6.0</td>\n",
       "      <td>1.0</td>\n",
       "    </tr>\n",
       "    <tr>\n",
       "      <th>4</th>\n",
       "      <td>1994</td>\n",
       "      <td>2938</td>\n",
       "      <td>22.0</td>\n",
       "      <td>2.0</td>\n",
       "    </tr>\n",
       "    <tr>\n",
       "      <th>5</th>\n",
       "      <td>1995</td>\n",
       "      <td>2989</td>\n",
       "      <td>8.0</td>\n",
       "      <td>0.0</td>\n",
       "    </tr>\n",
       "    <tr>\n",
       "      <th>6</th>\n",
       "      <td>1990</td>\n",
       "      <td>3215</td>\n",
       "      <td>15.0</td>\n",
       "      <td>0.0</td>\n",
       "    </tr>\n",
       "    <tr>\n",
       "      <th>7</th>\n",
       "      <td>1997</td>\n",
       "      <td>3651</td>\n",
       "      <td>17.0</td>\n",
       "      <td>0.0</td>\n",
       "    </tr>\n",
       "    <tr>\n",
       "      <th>8</th>\n",
       "      <td>1998</td>\n",
       "      <td>4131</td>\n",
       "      <td>16.0</td>\n",
       "      <td>2.0</td>\n",
       "    </tr>\n",
       "    <tr>\n",
       "      <th>9</th>\n",
       "      <td>1999</td>\n",
       "      <td>5385</td>\n",
       "      <td>6.0</td>\n",
       "      <td>0.0</td>\n",
       "    </tr>\n",
       "    <tr>\n",
       "      <th>10</th>\n",
       "      <td>2000</td>\n",
       "      <td>6351</td>\n",
       "      <td>11.0</td>\n",
       "      <td>1.0</td>\n",
       "    </tr>\n",
       "    <tr>\n",
       "      <th>11</th>\n",
       "      <td>2001</td>\n",
       "      <td>6216</td>\n",
       "      <td>14.0</td>\n",
       "      <td>0.0</td>\n",
       "    </tr>\n",
       "    <tr>\n",
       "      <th>12</th>\n",
       "      <td>2007</td>\n",
       "      <td>6659</td>\n",
       "      <td>12.0</td>\n",
       "      <td>0.0</td>\n",
       "    </tr>\n",
       "    <tr>\n",
       "      <th>13</th>\n",
       "      <td>2006</td>\n",
       "      <td>6485</td>\n",
       "      <td>12.0</td>\n",
       "      <td>3.0</td>\n",
       "    </tr>\n",
       "    <tr>\n",
       "      <th>14</th>\n",
       "      <td>2008</td>\n",
       "      <td>7122</td>\n",
       "      <td>10.0</td>\n",
       "      <td>0.0</td>\n",
       "    </tr>\n",
       "    <tr>\n",
       "      <th>15</th>\n",
       "      <td>2005</td>\n",
       "      <td>7591</td>\n",
       "      <td>7.0</td>\n",
       "      <td>0.0</td>\n",
       "    </tr>\n",
       "    <tr>\n",
       "      <th>16</th>\n",
       "      <td>2009</td>\n",
       "      <td>7750</td>\n",
       "      <td>14.0</td>\n",
       "      <td>0.0</td>\n",
       "    </tr>\n",
       "    <tr>\n",
       "      <th>17</th>\n",
       "      <td>2002</td>\n",
       "      <td>7993</td>\n",
       "      <td>10.0</td>\n",
       "      <td>2.0</td>\n",
       "    </tr>\n",
       "    <tr>\n",
       "      <th>18</th>\n",
       "      <td>2004</td>\n",
       "      <td>7993</td>\n",
       "      <td>14.0</td>\n",
       "      <td>5.0</td>\n",
       "    </tr>\n",
       "    <tr>\n",
       "      <th>19</th>\n",
       "      <td>2003</td>\n",
       "      <td>9848</td>\n",
       "      <td>108.0</td>\n",
       "      <td>8.0</td>\n",
       "    </tr>\n",
       "    <tr>\n",
       "      <th>20</th>\n",
       "      <td>2010</td>\n",
       "      <td>9934</td>\n",
       "      <td>14.0</td>\n",
       "      <td>0.0</td>\n",
       "    </tr>\n",
       "    <tr>\n",
       "      <th>21</th>\n",
       "      <td>2011</td>\n",
       "      <td>10363</td>\n",
       "      <td>12.0</td>\n",
       "      <td>0.0</td>\n",
       "    </tr>\n",
       "    <tr>\n",
       "      <th>22</th>\n",
       "      <td>2012</td>\n",
       "      <td>11264</td>\n",
       "      <td>18.0</td>\n",
       "      <td>0.0</td>\n",
       "    </tr>\n",
       "    <tr>\n",
       "      <th>23</th>\n",
       "      <td>2013</td>\n",
       "      <td>11666</td>\n",
       "      <td>10.0</td>\n",
       "      <td>1.0</td>\n",
       "    </tr>\n",
       "    <tr>\n",
       "      <th>24</th>\n",
       "      <td>2014</td>\n",
       "      <td>13976</td>\n",
       "      <td>6.0</td>\n",
       "      <td>0.0</td>\n",
       "    </tr>\n",
       "    <tr>\n",
       "      <th>25</th>\n",
       "      <td>2015</td>\n",
       "      <td>10148</td>\n",
       "      <td>11.0</td>\n",
       "      <td>0.0</td>\n",
       "    </tr>\n",
       "  </tbody>\n",
       "</table>\n",
       "</div>"
      ],
      "text/plain": [
       "    Year  Number of Records  Injuries  Fatalities\n",
       "0   1992               2099       8.0         0.0\n",
       "1   1996               2672      11.0         0.0\n",
       "2   1991               2816       8.0         1.0\n",
       "3   1993               2849       6.0         1.0\n",
       "4   1994               2938      22.0         2.0\n",
       "5   1995               2989       8.0         0.0\n",
       "6   1990               3215      15.0         0.0\n",
       "7   1997               3651      17.0         0.0\n",
       "8   1998               4131      16.0         2.0\n",
       "9   1999               5385       6.0         0.0\n",
       "10  2000               6351      11.0         1.0\n",
       "11  2001               6216      14.0         0.0\n",
       "12  2007               6659      12.0         0.0\n",
       "13  2006               6485      12.0         3.0\n",
       "14  2008               7122      10.0         0.0\n",
       "15  2005               7591       7.0         0.0\n",
       "16  2009               7750      14.0         0.0\n",
       "17  2002               7993      10.0         2.0\n",
       "18  2004               7993      14.0         5.0\n",
       "19  2003               9848     108.0         8.0\n",
       "20  2010               9934      14.0         0.0\n",
       "21  2011              10363      12.0         0.0\n",
       "22  2012              11264      18.0         0.0\n",
       "23  2013              11666      10.0         1.0\n",
       "24  2014              13976       6.0         0.0\n",
       "25  2015              10148      11.0         0.0"
      ]
     },
     "execution_count": 51,
     "metadata": {},
     "output_type": "execute_result"
    }
   ],
   "source": [
    "# question 3.4\n",
    "\n",
    "a = df['INDEX_NR'].groupby(df['INCIDENT_YEAR']).count()\n",
    "b = df['NR_INJURIES'].groupby(df['INCIDENT_YEAR']).sum()\n",
    "c = df['NR_FATALITIES'].groupby(df['INCIDENT_YEAR']).sum()\n",
    "z = df['INCIDENT_YEAR'].unique()\n",
    "\n",
    "df2 = pd.DataFrame(list(zip(z,a,b,c)),columns=['Year','Number of Records', 'Injuries', 'Fatalities'])\n",
    "df2"
   ]
  },
  {
   "cell_type": "markdown",
   "metadata": {
    "id": "w8-PCECfw-Z9"
   },
   "source": [
    "**Question 3.5** (10 points) Show the name of the specie with most incidents and the related number of incidents. The result cannot be an unknow bird."
   ]
  },
  {
   "cell_type": "code",
   "execution_count": 52,
   "metadata": {
    "id": "mH2xQ2-zxD0G"
   },
   "outputs": [
    {
     "data": {
      "text/plain": [
       "SPECIES\n",
       "Mourning dove    7653\n",
       "Name: SPECIES, dtype: int64"
      ]
     },
     "execution_count": 52,
     "metadata": {},
     "output_type": "execute_result"
    }
   ],
   "source": [
    "# question 3.5\n",
    "#df = pd.read_csv('faa-wildlife-strikes.csv')\n",
    "df3 = df[~(df['SPECIES'].str.contains('Unknown',na=False))]\n",
    "df3 = df3['SPECIES'].groupby(df3['SPECIES']).count().sort_values(ascending = False).head(1)\n",
    "df3"
   ]
  },
  {
   "cell_type": "markdown",
   "metadata": {
    "id": "bK62NqxLxDBp"
   },
   "source": [
    "**Question 3.6** (10 points) Show the top 5 species present on records with engine damage (from engine 1 to 4). For this exercise you can consider unkown species."
   ]
  },
  {
   "cell_type": "code",
   "execution_count": 58,
   "metadata": {
    "id": "px9jPItpxHwV"
   },
   "outputs": [
    {
     "data": {
      "text/html": [
       "<div>\n",
       "<style scoped>\n",
       "    .dataframe tbody tr th:only-of-type {\n",
       "        vertical-align: middle;\n",
       "    }\n",
       "\n",
       "    .dataframe tbody tr th {\n",
       "        vertical-align: top;\n",
       "    }\n",
       "\n",
       "    .dataframe thead th {\n",
       "        text-align: right;\n",
       "    }\n",
       "</style>\n",
       "<table border=\"1\" class=\"dataframe\">\n",
       "  <thead>\n",
       "    <tr style=\"text-align: right;\">\n",
       "      <th></th>\n",
       "      <th>DAM_ENG</th>\n",
       "    </tr>\n",
       "    <tr>\n",
       "      <th>SPECIES</th>\n",
       "      <th></th>\n",
       "    </tr>\n",
       "  </thead>\n",
       "  <tbody>\n",
       "    <tr>\n",
       "      <th>Unknown bird - medium</th>\n",
       "      <td>38531</td>\n",
       "    </tr>\n",
       "    <tr>\n",
       "      <th>Unknown bird - small</th>\n",
       "      <td>32981</td>\n",
       "    </tr>\n",
       "    <tr>\n",
       "      <th>Mourning dove</th>\n",
       "      <td>7653</td>\n",
       "    </tr>\n",
       "    <tr>\n",
       "      <th>Gulls</th>\n",
       "      <td>6580</td>\n",
       "    </tr>\n",
       "    <tr>\n",
       "      <th>Unknown bird</th>\n",
       "      <td>6400</td>\n",
       "    </tr>\n",
       "  </tbody>\n",
       "</table>\n",
       "</div>"
      ],
      "text/plain": [
       "                       DAM_ENG\n",
       "SPECIES                       \n",
       "Unknown bird - medium    38531\n",
       "Unknown bird - small     32981\n",
       "Mourning dove             7653\n",
       "Gulls                     6580\n",
       "Unknown bird              6400"
      ]
     },
     "execution_count": 58,
     "metadata": {},
     "output_type": "execute_result"
    }
   ],
   "source": [
    "# question 3.6\n",
    "df['DAM_ENG'] = df[['DAM_ENG1','DAM_ENG2','DAM_ENG3','DAM_ENG4']].sum(axis=1)\n",
    "\n",
    "df4 = df[(df.DAM_ENG > 0)]\n",
    "df4 = df[['SPECIES','DAM_ENG']].groupby(['SPECIES']).count().sort_values(by = ['DAM_ENG'],ascending=False)        \n",
    "df4[0:5]"
   ]
  },
  {
   "cell_type": "code",
   "execution_count": null,
   "metadata": {},
   "outputs": [],
   "source": []
  }
 ],
 "metadata": {
  "colab": {
   "collapsed_sections": [],
   "name": "Assignment 2 TC.ipynb",
   "provenance": [],
   "toc_visible": true
  },
  "kernelspec": {
   "display_name": "Python 3",
   "language": "python",
   "name": "python3"
  },
  "language_info": {
   "codemirror_mode": {
    "name": "ipython",
    "version": 3
   },
   "file_extension": ".py",
   "mimetype": "text/x-python",
   "name": "python",
   "nbconvert_exporter": "python",
   "pygments_lexer": "ipython3",
   "version": "3.7.3"
  }
 },
 "nbformat": 4,
 "nbformat_minor": 1
}
